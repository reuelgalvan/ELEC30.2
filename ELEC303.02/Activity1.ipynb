{
 "cells": [
  {
   "cell_type": "markdown",
   "id": "08e52299-107e-476a-b78e-6f21062f4799",
   "metadata": {},
   "source": [
    "<h1> Activity 1 - PALMER PENGUINS DATA ANALYTICS PROJECTS </h1>\n",
    "<h3>Analyst: REUEL MAGADIA</h3>"
   ]
  },
  {
   "cell_type": "code",
   "execution_count": 1,
   "id": "2e2dbb45-f737-43e9-ac7a-724202e34225",
   "metadata": {},
   "outputs": [],
   "source": [
    "import numpy as np\n",
    "import pandas as pd"
   ]
  },
  {
   "cell_type": "code",
   "execution_count": 7,
   "id": "8d7efb66-0ba4-4499-bbb7-e58390439f61",
   "metadata": {},
   "outputs": [],
   "source": [
    "penguins = pd.read_csv('datasets\\\\penguins.csv')"
   ]
  },
  {
   "cell_type": "code",
   "execution_count": 39,
   "id": "9d941e86-ea45-4dc0-9a0b-a32b0916ef39",
   "metadata": {},
   "outputs": [
    {
     "data": {
      "text/html": [
       "<div>\n",
       "<style scoped>\n",
       "    .dataframe tbody tr th:only-of-type {\n",
       "        vertical-align: middle;\n",
       "    }\n",
       "\n",
       "    .dataframe tbody tr th {\n",
       "        vertical-align: top;\n",
       "    }\n",
       "\n",
       "    .dataframe thead th {\n",
       "        text-align: right;\n",
       "    }\n",
       "</style>\n",
       "<table border=\"1\" class=\"dataframe\">\n",
       "  <thead>\n",
       "    <tr style=\"text-align: right;\">\n",
       "      <th></th>\n",
       "      <th>rowid</th>\n",
       "      <th>species</th>\n",
       "      <th>island</th>\n",
       "      <th>bill_length_mm</th>\n",
       "      <th>bill_depth_mm</th>\n",
       "      <th>flipper_length_mm</th>\n",
       "      <th>body_mass_g</th>\n",
       "      <th>sex</th>\n",
       "      <th>year</th>\n",
       "    </tr>\n",
       "  </thead>\n",
       "  <tbody>\n",
       "    <tr>\n",
       "      <th>0</th>\n",
       "      <td>1</td>\n",
       "      <td>Adelie</td>\n",
       "      <td>Torgersen</td>\n",
       "      <td>39.1</td>\n",
       "      <td>18.7</td>\n",
       "      <td>181.0</td>\n",
       "      <td>3750.0</td>\n",
       "      <td>male</td>\n",
       "      <td>2007</td>\n",
       "    </tr>\n",
       "    <tr>\n",
       "      <th>1</th>\n",
       "      <td>2</td>\n",
       "      <td>Adelie</td>\n",
       "      <td>Torgersen</td>\n",
       "      <td>39.5</td>\n",
       "      <td>17.4</td>\n",
       "      <td>186.0</td>\n",
       "      <td>3800.0</td>\n",
       "      <td>female</td>\n",
       "      <td>2007</td>\n",
       "    </tr>\n",
       "    <tr>\n",
       "      <th>2</th>\n",
       "      <td>3</td>\n",
       "      <td>Adelie</td>\n",
       "      <td>Torgersen</td>\n",
       "      <td>40.3</td>\n",
       "      <td>18.0</td>\n",
       "      <td>195.0</td>\n",
       "      <td>3250.0</td>\n",
       "      <td>female</td>\n",
       "      <td>2007</td>\n",
       "    </tr>\n",
       "    <tr>\n",
       "      <th>3</th>\n",
       "      <td>4</td>\n",
       "      <td>Adelie</td>\n",
       "      <td>Torgersen</td>\n",
       "      <td>NaN</td>\n",
       "      <td>NaN</td>\n",
       "      <td>NaN</td>\n",
       "      <td>NaN</td>\n",
       "      <td>NaN</td>\n",
       "      <td>2007</td>\n",
       "    </tr>\n",
       "    <tr>\n",
       "      <th>4</th>\n",
       "      <td>5</td>\n",
       "      <td>Adelie</td>\n",
       "      <td>Torgersen</td>\n",
       "      <td>36.7</td>\n",
       "      <td>19.3</td>\n",
       "      <td>193.0</td>\n",
       "      <td>3450.0</td>\n",
       "      <td>female</td>\n",
       "      <td>2007</td>\n",
       "    </tr>\n",
       "    <tr>\n",
       "      <th>...</th>\n",
       "      <td>...</td>\n",
       "      <td>...</td>\n",
       "      <td>...</td>\n",
       "      <td>...</td>\n",
       "      <td>...</td>\n",
       "      <td>...</td>\n",
       "      <td>...</td>\n",
       "      <td>...</td>\n",
       "      <td>...</td>\n",
       "    </tr>\n",
       "    <tr>\n",
       "      <th>339</th>\n",
       "      <td>340</td>\n",
       "      <td>Chinstrap</td>\n",
       "      <td>Dream</td>\n",
       "      <td>55.8</td>\n",
       "      <td>19.8</td>\n",
       "      <td>207.0</td>\n",
       "      <td>4000.0</td>\n",
       "      <td>male</td>\n",
       "      <td>2009</td>\n",
       "    </tr>\n",
       "    <tr>\n",
       "      <th>340</th>\n",
       "      <td>341</td>\n",
       "      <td>Chinstrap</td>\n",
       "      <td>Dream</td>\n",
       "      <td>43.5</td>\n",
       "      <td>18.1</td>\n",
       "      <td>202.0</td>\n",
       "      <td>3400.0</td>\n",
       "      <td>female</td>\n",
       "      <td>2009</td>\n",
       "    </tr>\n",
       "    <tr>\n",
       "      <th>341</th>\n",
       "      <td>342</td>\n",
       "      <td>Chinstrap</td>\n",
       "      <td>Dream</td>\n",
       "      <td>49.6</td>\n",
       "      <td>18.2</td>\n",
       "      <td>193.0</td>\n",
       "      <td>3775.0</td>\n",
       "      <td>male</td>\n",
       "      <td>2009</td>\n",
       "    </tr>\n",
       "    <tr>\n",
       "      <th>342</th>\n",
       "      <td>343</td>\n",
       "      <td>Chinstrap</td>\n",
       "      <td>Dream</td>\n",
       "      <td>50.8</td>\n",
       "      <td>19.0</td>\n",
       "      <td>210.0</td>\n",
       "      <td>4100.0</td>\n",
       "      <td>male</td>\n",
       "      <td>2009</td>\n",
       "    </tr>\n",
       "    <tr>\n",
       "      <th>343</th>\n",
       "      <td>344</td>\n",
       "      <td>Chinstrap</td>\n",
       "      <td>Dream</td>\n",
       "      <td>50.2</td>\n",
       "      <td>18.7</td>\n",
       "      <td>198.0</td>\n",
       "      <td>3775.0</td>\n",
       "      <td>female</td>\n",
       "      <td>2009</td>\n",
       "    </tr>\n",
       "  </tbody>\n",
       "</table>\n",
       "<p>344 rows × 9 columns</p>\n",
       "</div>"
      ],
      "text/plain": [
       "     rowid    species     island  bill_length_mm  bill_depth_mm  \\\n",
       "0        1     Adelie  Torgersen            39.1           18.7   \n",
       "1        2     Adelie  Torgersen            39.5           17.4   \n",
       "2        3     Adelie  Torgersen            40.3           18.0   \n",
       "3        4     Adelie  Torgersen             NaN            NaN   \n",
       "4        5     Adelie  Torgersen            36.7           19.3   \n",
       "..     ...        ...        ...             ...            ...   \n",
       "339    340  Chinstrap      Dream            55.8           19.8   \n",
       "340    341  Chinstrap      Dream            43.5           18.1   \n",
       "341    342  Chinstrap      Dream            49.6           18.2   \n",
       "342    343  Chinstrap      Dream            50.8           19.0   \n",
       "343    344  Chinstrap      Dream            50.2           18.7   \n",
       "\n",
       "     flipper_length_mm  body_mass_g     sex  year  \n",
       "0                181.0       3750.0    male  2007  \n",
       "1                186.0       3800.0  female  2007  \n",
       "2                195.0       3250.0  female  2007  \n",
       "3                  NaN          NaN     NaN  2007  \n",
       "4                193.0       3450.0  female  2007  \n",
       "..                 ...          ...     ...   ...  \n",
       "339              207.0       4000.0    male  2009  \n",
       "340              202.0       3400.0  female  2009  \n",
       "341              193.0       3775.0    male  2009  \n",
       "342              210.0       4100.0    male  2009  \n",
       "343              198.0       3775.0  female  2009  \n",
       "\n",
       "[344 rows x 9 columns]"
      ]
     },
     "execution_count": 39,
     "metadata": {},
     "output_type": "execute_result"
    }
   ],
   "source": [
    "penguins"
   ]
  },
  {
   "cell_type": "markdown",
   "id": "34a9130b-ccfb-4000-9e5d-741407d39791",
   "metadata": {},
   "source": [
    "<h3>1. How many penguins are in the data?</h3> "
   ]
  },
  {
   "cell_type": "code",
   "execution_count": 40,
   "id": "28e992ce-8a7e-413c-8c91-2369dc6a4385",
   "metadata": {},
   "outputs": [],
   "source": [
    "num_penguins = penguins.shape[0]"
   ]
  },
  {
   "cell_type": "code",
   "execution_count": 41,
   "id": "7ae639e6-67f2-4a4d-8e55-8965baf5a9bf",
   "metadata": {},
   "outputs": [
    {
     "data": {
      "text/plain": [
       "344"
      ]
     },
     "execution_count": 41,
     "metadata": {},
     "output_type": "execute_result"
    }
   ],
   "source": [
    "num_penguins"
   ]
  },
  {
   "cell_type": "markdown",
   "id": "8532b114-3e0e-43b3-bd30-128905380c20",
   "metadata": {},
   "source": [
    "<h6>Insight: This dataset is relatively small, making it easier to explore visually and statistically. However, some rows contain missing values, so cleaning may be necessary before analysis.</h6>"
   ]
  },
  {
   "cell_type": "markdown",
   "id": "ed2a5bf5-9e05-4855-8dc6-34f316ae33da",
   "metadata": {},
   "source": [
    "<h3> 2. How many penguins belong to each species?</h3>"
   ]
  },
  {
   "cell_type": "code",
   "execution_count": 42,
   "id": "549feba5-1270-4df8-a547-4e856b76f32c",
   "metadata": {},
   "outputs": [],
   "source": [
    "species_counts = penguins['species'].value_counts()"
   ]
  },
  {
   "cell_type": "code",
   "execution_count": 43,
   "id": "e9084e0a-b00a-477b-baa2-a7b07d22cc59",
   "metadata": {},
   "outputs": [
    {
     "data": {
      "text/plain": [
       "species\n",
       "Adelie       152\n",
       "Gentoo       124\n",
       "Chinstrap     68\n",
       "Name: count, dtype: int64"
      ]
     },
     "execution_count": 43,
     "metadata": {},
     "output_type": "execute_result"
    }
   ],
   "source": [
    "species_counts"
   ]
  },
  {
   "cell_type": "markdown",
   "id": "1235f99d-a2e4-42af-b3c1-ced0d1149af3",
   "metadata": {},
   "source": [
    "<h6>Insight: Adelie penguins make up the largest portion of the dataset, while Chinstrap penguins are the least represented. This imbalance could affect statistical comparisons between species.</h6>"
   ]
  },
  {
   "cell_type": "markdown",
   "id": "1a3933d7-0064-4e3b-b7af-e8ac1516bc28",
   "metadata": {},
   "source": [
    "<h3>3. What is the average bill length for each species? </h3> "
   ]
  },
  {
   "cell_type": "code",
   "execution_count": 44,
   "id": "16f5fdb2-a528-4a56-a952-e82d30d713f4",
   "metadata": {},
   "outputs": [],
   "source": [
    "avg_bill_length = penguins.groupby('species')['bill_length_mm'].mean()"
   ]
  },
  {
   "cell_type": "code",
   "execution_count": 45,
   "id": "15de6bbe-2705-448d-9bf9-ca519a3f0a08",
   "metadata": {},
   "outputs": [
    {
     "data": {
      "text/plain": [
       "species\n",
       "Adelie       38.791391\n",
       "Chinstrap    48.833824\n",
       "Gentoo       47.504878\n",
       "Name: bill_length_mm, dtype: float64"
      ]
     },
     "execution_count": 45,
     "metadata": {},
     "output_type": "execute_result"
    }
   ],
   "source": [
    "avg_bill_length"
   ]
  },
  {
   "cell_type": "markdown",
   "id": "fce33829-8610-452a-8f26-862bcfa15d0f",
   "metadata": {},
   "source": [
    "<h6>Insight: Chinstrap penguins have the longest average bill length, followed closely by Gentoo, while Adelie penguins have noticeably shorter bills. This difference could be linked to their feeding habits.</h6>"
   ]
  },
  {
   "cell_type": "markdown",
   "id": "ccbb6b22-55b6-43f1-9bc9-aed7570d6e1e",
   "metadata": {},
   "source": [
    "<h3>4. Which island has the largest average body mass?</h3> "
   ]
  },
  {
   "cell_type": "code",
   "execution_count": 46,
   "id": "43c6abc2-bbb0-41c0-8e66-26086ee60ab1",
   "metadata": {},
   "outputs": [],
   "source": [
    "avg_mass_by_island = penguins.groupby('island')['body_mass_g'].mean()\n",
    "largest_island = avg_mass_by_island.idxmax()"
   ]
  },
  {
   "cell_type": "code",
   "execution_count": 47,
   "id": "485be03a-5e96-4a6d-be20-ff74a7927d6d",
   "metadata": {},
   "outputs": [
    {
     "data": {
      "text/plain": [
       "('Biscoe', np.float64(4716.017964071856))"
      ]
     },
     "execution_count": 47,
     "metadata": {},
     "output_type": "execute_result"
    }
   ],
   "source": [
    "largest_island, avg_mass_by_island[largest_island]"
   ]
  },
  {
   "cell_type": "markdown",
   "id": "762fa99c-37d3-4d1c-9cf3-f199977f743f",
   "metadata": {},
   "source": [
    "<h6>Insight: Penguins on Biscoe Island are generally heavier, possibly because of species composition (more Gentoo penguins, which are larger on average).</h6>"
   ]
  },
  {
   "cell_type": "markdown",
   "id": "1d3a56db-c0d7-495f-9487-369473abeb7b",
   "metadata": {},
   "source": [
    "<h3>5. What is the heaviest penguin recorded?</h3> "
   ]
  },
  {
   "cell_type": "code",
   "execution_count": 48,
   "id": "2dfacbeb-cd15-49b2-9072-eeee283ed13f",
   "metadata": {},
   "outputs": [],
   "source": [
    "heaviest_penguin = penguins.loc[penguins['body_mass_g'].idxmax()]"
   ]
  },
  {
   "cell_type": "code",
   "execution_count": 49,
   "id": "76d8f160-ee8a-432e-98eb-7f7af56bff5a",
   "metadata": {},
   "outputs": [
    {
     "data": {
      "text/plain": [
       "rowid                   170\n",
       "species              Gentoo\n",
       "island               Biscoe\n",
       "bill_length_mm         49.2\n",
       "bill_depth_mm          15.2\n",
       "flipper_length_mm     221.0\n",
       "body_mass_g          6300.0\n",
       "sex                    male\n",
       "year                   2007\n",
       "Name: 169, dtype: object"
      ]
     },
     "execution_count": 49,
     "metadata": {},
     "output_type": "execute_result"
    }
   ],
   "source": [
    "heaviest_penguin"
   ]
  },
  {
   "cell_type": "markdown",
   "id": "85a66e19-fc98-4cf8-af5c-8da7386e71c4",
   "metadata": {},
   "source": [
    "<h6>Insight: The heaviest penguin is a male Gentoo from Biscoe Island. Gentoos are generally the largest species in this dataset.</h6>"
   ]
  },
  {
   "cell_type": "markdown",
   "id": "2359caab-8bed-4b29-a4ff-88f027ff43e0",
   "metadata": {},
   "source": [
    "<h3>6. How many male and female penguins are there?</h3> "
   ]
  },
  {
   "cell_type": "code",
   "execution_count": 50,
   "id": "d8f780d2-329d-406e-9c26-4bb226ff369b",
   "metadata": {},
   "outputs": [],
   "source": [
    "sex_counts = penguins['sex'].value_counts()"
   ]
  },
  {
   "cell_type": "code",
   "execution_count": 51,
   "id": "6ac4bdd0-8935-4a32-aee8-b58158896bed",
   "metadata": {},
   "outputs": [
    {
     "data": {
      "text/plain": [
       "sex\n",
       "male      168\n",
       "female    165\n",
       "Name: count, dtype: int64"
      ]
     },
     "execution_count": 51,
     "metadata": {},
     "output_type": "execute_result"
    }
   ],
   "source": [
    "sex_counts"
   ]
  },
  {
   "cell_type": "markdown",
   "id": "9b5d181b-1236-49e0-8711-d5e0c8892c8d",
   "metadata": {},
   "source": [
    "<h6>Insight: The dataset has a nearly equal distribution of male and female penguins, which is good for gender-based comparative studies.</h6>"
   ]
  },
  {
   "cell_type": "markdown",
   "id": "07012d50-2a76-48cd-bd0f-f9472d07a8e0",
   "metadata": {},
   "source": [
    "<h3>7. What is the correlation between flipper length and body mass?</h3>"
   ]
  },
  {
   "cell_type": "code",
   "execution_count": 52,
   "id": "fa65b417-3ccd-4f1f-8572-e0c2b2f19e10",
   "metadata": {},
   "outputs": [],
   "source": [
    "correlation = penguins['flipper_length_mm'].corr(penguins['body_mass_g'])"
   ]
  },
  {
   "cell_type": "code",
   "execution_count": 53,
   "id": "9bf72c61-81e6-4df9-8dc9-bf327c689a01",
   "metadata": {},
   "outputs": [
    {
     "data": {
      "text/plain": [
       "np.float64(0.8712017673060113)"
      ]
     },
     "execution_count": 53,
     "metadata": {},
     "output_type": "execute_result"
    }
   ],
   "source": [
    "correlation"
   ]
  },
  {
   "cell_type": "markdown",
   "id": "2ac831f9-d28c-4f26-afa4-96552bea3290",
   "metadata": {},
   "source": [
    "<h6>Insight: Longer flippers tend to be associated with heavier penguins. This relationship makes sense biologically, as larger penguins require bigger flippers for efficient swimming.</h6>"
   ]
  },
  {
   "cell_type": "markdown",
   "id": "d668a198-b77b-4cd4-a1ac-5366aba57000",
   "metadata": {},
   "source": [
    "<h3>8. Which year has the highest number of penguin records?</h3>"
   ]
  },
  {
   "cell_type": "code",
   "execution_count": 68,
   "id": "a145173d-bd4e-47c1-879f-88379ec1f46b",
   "metadata": {},
   "outputs": [],
   "source": [
    "year_counts = penguins['year'].value_counts()"
   ]
  },
  {
   "cell_type": "raw",
   "id": "1f12b12d-3ebe-4306-8d38-b8de73d116a4",
   "metadata": {},
   "source": [
    "year_counts"
   ]
  },
  {
   "cell_type": "markdown",
   "id": "fa2e95fc-9d64-40d8-b2a2-4dda72a7bdce",
   "metadata": {},
   "source": [
    "<h6>Most records are from 2009.</h6>"
   ]
  },
  {
   "cell_type": "markdown",
   "id": "4f845a64-14aa-4695-9716-b37a79fe0553",
   "metadata": {},
   "source": [
    "<h3>9. What is the correlation between bill depth and bill length?</h3>"
   ]
  },
  {
   "cell_type": "code",
   "execution_count": 55,
   "id": "e49816e1-ef27-4512-88ea-34250d917849",
   "metadata": {},
   "outputs": [],
   "source": [
    "bill_correlation = penguins['bill_length_mm'].corr(penguins['bill_depth_mm'])"
   ]
  },
  {
   "cell_type": "code",
   "execution_count": 56,
   "id": "5f20fbff-0010-41a2-a683-65a514acdad9",
   "metadata": {},
   "outputs": [
    {
     "data": {
      "text/plain": [
       "np.float64(-0.23505287035553257)"
      ]
     },
     "execution_count": 56,
     "metadata": {},
     "output_type": "execute_result"
    }
   ],
   "source": [
    "bill_correlation"
   ]
  },
  {
   "cell_type": "markdown",
   "id": "ce880d1b-2bda-4e6e-9bc7-4fda29f073ee",
   "metadata": {},
   "source": [
    "<h6>There’s a slight negative correlation — longer bills tend to be slightly shallower.</h6>"
   ]
  },
  {
   "cell_type": "markdown",
   "id": "9b15c55e-bf75-435b-9368-8f8320b9c5e6",
   "metadata": {},
   "source": [
    "<h3>10. What percentage of penguins have missing values?</h3>"
   ]
  },
  {
   "cell_type": "code",
   "execution_count": 57,
   "id": "8a917b9d-e500-410b-adb4-2a88718b2be2",
   "metadata": {},
   "outputs": [],
   "source": [
    "missing_percentage = penguins.isnull().any(axis=1).mean() * 100"
   ]
  },
  {
   "cell_type": "code",
   "execution_count": 58,
   "id": "dcf86eed-1924-4362-a8e8-23ccdef77818",
   "metadata": {},
   "outputs": [
    {
     "data": {
      "text/plain": [
       "np.float64(3.1976744186046515)"
      ]
     },
     "execution_count": 58,
     "metadata": {},
     "output_type": "execute_result"
    }
   ],
   "source": [
    "missing_percentage"
   ]
  },
  {
   "cell_type": "markdown",
   "id": "13b61c01-21ae-48ca-a285-bf4f49a3b362",
   "metadata": {},
   "source": [
    "<h6>The dataset is mostly complete but still has some missing entries.</h6>"
   ]
  },
  {
   "cell_type": "markdown",
   "id": "15e73437-b5ba-4848-978c-93f9d4813a77",
   "metadata": {},
   "source": [
    "<h3>11. Which species–island combo has the longest average bill length?</h3>"
   ]
  },
  {
   "cell_type": "code",
   "execution_count": 59,
   "id": "eaf5e870-62f6-45dc-8313-ee908108399c",
   "metadata": {},
   "outputs": [],
   "source": [
    "avg_bill_by_species_island = penguins.groupby(['species', 'island'])['bill_length_mm'].mean()\n",
    "longest_bill_combo = avg_bill_by_species_island.idxmax()\n",
    "longest_bill_value = avg_bill_by_species_island.max()"
   ]
  },
  {
   "cell_type": "code",
   "execution_count": 60,
   "id": "9a512e6f-22d4-410c-a194-0168fabb99ae",
   "metadata": {},
   "outputs": [
    {
     "data": {
      "text/plain": [
       "(('Chinstrap', 'Dream'), np.float64(48.83382352941176))"
      ]
     },
     "execution_count": 60,
     "metadata": {},
     "output_type": "execute_result"
    }
   ],
   "source": [
    "longest_bill_combo, longest_bill_value"
   ]
  },
  {
   "cell_type": "markdown",
   "id": "fc9aeb82-18ec-4691-88a0-9acfec2d23b4",
   "metadata": {},
   "source": [
    "<h6>Chinstrap penguins on Dream Island have the longest bills on average.</h6>"
   ]
  },
  {
   "cell_type": "markdown",
   "id": "01c8749f-8d98-4a7e-a5f1-052075cf9748",
   "metadata": {},
   "source": [
    "<h6>12. For each species, what is the min and max body mass recorded?</h6>"
   ]
  },
  {
   "cell_type": "code",
   "execution_count": 61,
   "id": "6ffc4b72-c145-428d-b3ac-f3e7fff316a9",
   "metadata": {},
   "outputs": [],
   "source": [
    "mass_range_by_species = penguins.groupby('species')['body_mass_g'].agg(['min', 'max'])"
   ]
  },
  {
   "cell_type": "code",
   "execution_count": 62,
   "id": "73c2f0ee-0234-4ba3-a290-f48820d9e776",
   "metadata": {},
   "outputs": [
    {
     "data": {
      "text/html": [
       "<div>\n",
       "<style scoped>\n",
       "    .dataframe tbody tr th:only-of-type {\n",
       "        vertical-align: middle;\n",
       "    }\n",
       "\n",
       "    .dataframe tbody tr th {\n",
       "        vertical-align: top;\n",
       "    }\n",
       "\n",
       "    .dataframe thead th {\n",
       "        text-align: right;\n",
       "    }\n",
       "</style>\n",
       "<table border=\"1\" class=\"dataframe\">\n",
       "  <thead>\n",
       "    <tr style=\"text-align: right;\">\n",
       "      <th></th>\n",
       "      <th>min</th>\n",
       "      <th>max</th>\n",
       "    </tr>\n",
       "    <tr>\n",
       "      <th>species</th>\n",
       "      <th></th>\n",
       "      <th></th>\n",
       "    </tr>\n",
       "  </thead>\n",
       "  <tbody>\n",
       "    <tr>\n",
       "      <th>Adelie</th>\n",
       "      <td>2850.0</td>\n",
       "      <td>4775.0</td>\n",
       "    </tr>\n",
       "    <tr>\n",
       "      <th>Chinstrap</th>\n",
       "      <td>2700.0</td>\n",
       "      <td>4800.0</td>\n",
       "    </tr>\n",
       "    <tr>\n",
       "      <th>Gentoo</th>\n",
       "      <td>3950.0</td>\n",
       "      <td>6300.0</td>\n",
       "    </tr>\n",
       "  </tbody>\n",
       "</table>\n",
       "</div>"
      ],
      "text/plain": [
       "              min     max\n",
       "species                  \n",
       "Adelie     2850.0  4775.0\n",
       "Chinstrap  2700.0  4800.0\n",
       "Gentoo     3950.0  6300.0"
      ]
     },
     "execution_count": 62,
     "metadata": {},
     "output_type": "execute_result"
    }
   ],
   "source": [
    "mass_range_by_species"
   ]
  },
  {
   "cell_type": "markdown",
   "id": "1b3756a1-6cd5-4063-a56c-25ec8935fe5f",
   "metadata": {},
   "source": [
    "<h6>Gentoo penguins are the largest species, Chinstrap the smallest at minimum.</h6>"
   ]
  },
  {
   "cell_type": "markdown",
   "id": "71ccd7a6-0323-4921-83bb-2a09efc558d5",
   "metadata": {},
   "source": [
    "<h3>13. What is the average flipper length for each sex?</h3>"
   ]
  },
  {
   "cell_type": "code",
   "execution_count": 63,
   "id": "6de45923-5709-480c-83a5-100daabc8ef6",
   "metadata": {},
   "outputs": [],
   "source": [
    "avg_flipper_by_sex = penguins.groupby('sex')['flipper_length_mm'].mean()"
   ]
  },
  {
   "cell_type": "code",
   "execution_count": 64,
   "id": "e1a255b2-bc13-4157-92e3-2e147af2e16a",
   "metadata": {},
   "outputs": [
    {
     "data": {
      "text/plain": [
       "sex\n",
       "female    197.363636\n",
       "male      204.505952\n",
       "Name: flipper_length_mm, dtype: float64"
      ]
     },
     "execution_count": 64,
     "metadata": {},
     "output_type": "execute_result"
    }
   ],
   "source": [
    "avg_flipper_by_sex"
   ]
  },
  {
   "cell_type": "markdown",
   "id": "b1615c45-0717-4675-822a-47cff44695eb",
   "metadata": {},
   "source": [
    "<h6>Males tend to have longer flippers on average.</h6>"
   ]
  }
 ],
 "metadata": {
  "kernelspec": {
   "display_name": "Python 3 (ipykernel)",
   "language": "python",
   "name": "python3"
  },
  "language_info": {
   "codemirror_mode": {
    "name": "ipython",
    "version": 3
   },
   "file_extension": ".py",
   "mimetype": "text/x-python",
   "name": "python",
   "nbconvert_exporter": "python",
   "pygments_lexer": "ipython3",
   "version": "3.13.0"
  }
 },
 "nbformat": 4,
 "nbformat_minor": 5
}
